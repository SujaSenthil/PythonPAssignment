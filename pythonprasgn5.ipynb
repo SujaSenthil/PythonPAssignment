{
 "cells": [
  {
   "cell_type": "markdown",
   "id": "41ae5e1b",
   "metadata": {},
   "source": [
    "#    PYTHON PROGRAM ASSIGNMENT 5\n",
    "                          "
   ]
  },
  {
   "cell_type": "markdown",
   "id": "fd319cdc",
   "metadata": {},
   "source": [
    "## 1. Write a python program to find the LCM"
   ]
  },
  {
   "cell_type": "code",
   "execution_count": 4,
   "id": "a7304bf7",
   "metadata": {},
   "outputs": [
    {
     "name": "stdout",
     "output_type": "stream",
     "text": [
      "Enter the first number :24\n",
      "Enter the second number :36\n",
      "\n",
      "LCM of 24  and  36 is 72\n"
     ]
    }
   ],
   "source": [
    "def lcm(n1,n2):\n",
    "    if n1>n2:\n",
    "        high=n1\n",
    "    else:\n",
    "        high=n2\n",
    "    val=high\n",
    "    while True:\n",
    "        if high%n1==0 and high%n2==0 :\n",
    "            print(\"\\nLCM of\",n1,\" and \",n2,\"is\",high)\n",
    "            break\n",
    "        else :\n",
    "            high=high+val\n",
    "            \n",
    "n1=int(input(\"Enter the first number :\"))       \n",
    "n2=int(input(\"Enter the second number :\"))       \n",
    "lcm(n1,n2)"
   ]
  },
  {
   "cell_type": "raw",
   "id": "97684e9b",
   "metadata": {},
   "source": []
  },
  {
   "cell_type": "markdown",
   "id": "37323744",
   "metadata": {},
   "source": [
    "## 2.Write a python program to find HCF."
   ]
  },
  {
   "cell_type": "code",
   "execution_count": 9,
   "id": "f97ef390",
   "metadata": {},
   "outputs": [
    {
     "name": "stdout",
     "output_type": "stream",
     "text": [
      "Enter the first number :54\n",
      "Enter the second number :24\n",
      "HCF of 54 and 24 is 6\n"
     ]
    }
   ],
   "source": [
    "def hcf(a,b):\n",
    "    if a<b:\n",
    "        low=a\n",
    "    else:\n",
    "        low=b\n",
    "    for i in range(low,1,-1):\n",
    "        if a%i==0 and b%i==0 :\n",
    "            print(\"HCF of\",a,\"and\",b,\"is\",i)\n",
    "            break\n",
    "            \n",
    "a=int(input(\"Enter the first number :\"))       \n",
    "b=int(input(\"Enter the second number :\"))       \n",
    "hcf(a,b)"
   ]
  },
  {
   "cell_type": "raw",
   "id": "b5b198a9",
   "metadata": {},
   "source": [
    " "
   ]
  },
  {
   "cell_type": "markdown",
   "id": "c4f5753c",
   "metadata": {},
   "source": [
    "## 3.Write a Python program to convert Decimal to Binary,octal and hexadecimal."
   ]
  },
  {
   "cell_type": "code",
   "execution_count": 14,
   "id": "51632e41",
   "metadata": {},
   "outputs": [
    {
     "name": "stdout",
     "output_type": "stream",
     "text": [
      "Enter the Decimal number :196\n",
      "\n",
      "The Binary Equivalent for 196 is:\n",
      "11000100\n",
      "The Octal Equivalent for 196 is:\n",
      "304\n",
      "The Hexadecimal Equivalent for 196 is:\n",
      "C4"
     ]
    }
   ],
   "source": [
    "def dec_bin(n):\n",
    "    l=[]\n",
    "    d=n\n",
    "    while n>0 :\n",
    "        l.append(n%2)\n",
    "        n=n//2\n",
    "    print(\"\\nThe Binary Equivalent for\",d,\"is:\")\n",
    "    for i in range(len(l)-1,-1,-1):\n",
    "        print(l[i], end=\"\")\n",
    "        \n",
    "def dec_oct(n):\n",
    "    l1=[]\n",
    "    d1=n\n",
    "    while n>0 :\n",
    "        l1.append(n%8)\n",
    "        n=n//8\n",
    "    print(\"\\nThe Octal Equivalent for\",d1,\"is:\")\n",
    "    for i in range(len(l1)-1,-1,-1):\n",
    "        print(l1[i], end=\"\")\n",
    "        \n",
    "def dec_hex(n):\n",
    "    l2=[]\n",
    "    d2=n\n",
    "    while n>0 :\n",
    "        l2.append(n%16)\n",
    "        n=n//16\n",
    "    print(\"\\nThe Hexadecimal Equivalent for\",d2,\"is:\")\n",
    "    for i in range(len(l2)-1,-1,-1):\n",
    "        if l2[i]==10:\n",
    "            print(\"A\",end=\"\")\n",
    "        elif l2[i]==11:\n",
    "            print(\"B\",end=\"\")\n",
    "        elif l2[i]==12 :\n",
    "            print(\"C\",end=\"\")\n",
    "        elif l2[i]==13:\n",
    "            print(\"D\",end=\"\")\n",
    "        elif l2[i]==14:\n",
    "            print(\"E\",end=\"\")\n",
    "        elif l2[i]==15:\n",
    "            print(\"F\",end=\"\")\n",
    "        else:\n",
    "            print(l2[i], end=\"\")    \n",
    "            \n",
    "x=int(input(\"Enter the Decimal number :\"))\n",
    "\n",
    "dec_bin(x)\n",
    "dec_oct(x)\n",
    "dec_hex(x)"
   ]
  },
  {
   "cell_type": "raw",
   "id": "55963ac0",
   "metadata": {},
   "source": []
  },
  {
   "cell_type": "markdown",
   "id": "9e5367a4",
   "metadata": {},
   "source": [
    "## 4.Write a python program to find the ASCII value of a character"
   ]
  },
  {
   "cell_type": "code",
   "execution_count": 18,
   "id": "da7bc399",
   "metadata": {},
   "outputs": [
    {
     "name": "stdout",
     "output_type": "stream",
     "text": [
      "Enter the Character to find the ASCII value:S\n",
      "\n",
      "\n",
      "The ASCII value of S Is: 83\n"
     ]
    }
   ],
   "source": [
    "a=input(\"Enter the Character to find the ASCII value:\")\n",
    "print(\"\\n\\nThe ASCII value of\",a,\"Is:\",ord(a))"
   ]
  },
  {
   "cell_type": "raw",
   "id": "e1e96a52",
   "metadata": {},
   "source": []
  },
  {
   "cell_type": "markdown",
   "id": "2178a353",
   "metadata": {},
   "source": [
    " ## Write a Python Program to Make a Simple Calculator with 4 basic mathematical operations?"
   ]
  },
  {
   "cell_type": "code",
   "execution_count": 4,
   "id": "4d693be6",
   "metadata": {},
   "outputs": [
    {
     "name": "stdout",
     "output_type": "stream",
     "text": [
      "\n",
      "1. Add\n",
      "\n",
      "2. Subtract\n",
      "\n",
      "3. Multiply\n",
      "\n",
      "4. Divide\n",
      "\n",
      "Please select operation u wish to perform :1\n",
      "\n",
      "Enter the First number :34\n",
      "\n",
      "Enter the Second number :45\n",
      "\n",
      " 34 + 45 = 79\n",
      "\n",
      "Do you want to continue :(Y/N):Y\n",
      "\n",
      "1. Add\n",
      "\n",
      "2. Subtract\n",
      "\n",
      "3. Multiply\n",
      "\n",
      "4. Divide\n",
      "\n",
      "Please select operation u wish to perform :2\n",
      "\n",
      "Enter the First number :56\n",
      "\n",
      "Enter the Second number :34\n",
      "\n",
      " 56 - 34 = 22\n",
      "\n",
      "Do you want to continue :(Y/N):Y\n",
      "\n",
      "1. Add\n",
      "\n",
      "2. Subtract\n",
      "\n",
      "3. Multiply\n",
      "\n",
      "4. Divide\n",
      "\n",
      "Please select operation u wish to perform :3\n",
      "\n",
      "Enter the First number :56\n",
      "\n",
      "Enter the Second number :65\n",
      "\n",
      " 56 * 65 = 3640\n",
      "\n",
      "Do you want to continue :(Y/N):N\n"
     ]
    }
   ],
   "source": [
    "def add(a,b):\n",
    "    return a+b\n",
    "\n",
    "def sub(a,b):\n",
    "    return a-b\n",
    "\n",
    "def mul(a,b):\n",
    "    return a*b\n",
    "\n",
    "def div(a,b):\n",
    "    return a//b\n",
    "\n",
    "v=True\n",
    "\n",
    "while v==True:\n",
    "    \n",
    "    print(\"\\n1. Add\")\n",
    "    print(\"\\n2. Subtract\")\n",
    "    print(\"\\n3. Multiply\")\n",
    "    print(\"\\n4. Divide\")\n",
    "    x=int(input(\"\\nPlease select operation u wish to perform :\"))\n",
    " \n",
    "    n1=int(input(\"\\nEnter the First number :\"))\n",
    "    n2=int(input(\"\\nEnter the Second number :\"))\n",
    "\n",
    "    if x==1:\n",
    "         print(\"\\n\",n1,\"+\",n2,\"=\",add(n1,n2))\n",
    "        \n",
    "    elif x==2:\n",
    "         print(\"\\n\",n1,\"-\",n2,\"=\",sub(n1,n2))\n",
    "        \n",
    "    elif x==3:\n",
    "         print(\"\\n\",n1,\"*\",n2,\"=\",mul(n1,n2))\n",
    "        \n",
    "    elif x==4:\n",
    "         print(\"\\n\",n1,\"/\",n2,\"=\",div(n1,n2))\n",
    "        \n",
    "    else:\n",
    "        print(\"Invalid Option\")\n",
    "    \n",
    "    t=input(\"\\nDo you want to continue :(Y/N):\")\n",
    "    if t==\"Y\":\n",
    "        v=True\n",
    "        \n",
    "    else :\n",
    "        v=False\n",
    " \n",
    "\n"
   ]
  },
  {
   "cell_type": "markdown",
   "id": "b231a605",
   "metadata": {},
   "source": []
  },
  {
   "cell_type": "code",
   "execution_count": null,
   "id": "6e73d94e",
   "metadata": {},
   "outputs": [],
   "source": []
  }
 ],
 "metadata": {
  "kernelspec": {
   "display_name": "Python 3 (ipykernel)",
   "language": "python",
   "name": "python3"
  },
  "language_info": {
   "codemirror_mode": {
    "name": "ipython",
    "version": 3
   },
   "file_extension": ".py",
   "mimetype": "text/x-python",
   "name": "python",
   "nbconvert_exporter": "python",
   "pygments_lexer": "ipython3",
   "version": "3.9.7"
  }
 },
 "nbformat": 4,
 "nbformat_minor": 5
}
