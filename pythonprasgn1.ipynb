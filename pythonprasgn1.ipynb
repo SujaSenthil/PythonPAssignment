{
 "cells": [
  {
   "cell_type": "raw",
   "id": "381de544",
   "metadata": {},
   "source": [
    "      PYTHON PROGRAMMING ASSIGNMENT 1\n",
    "\n",
    "1.\tWrite a Python program to print \"Hello Python\"?\n",
    "\n"
   ]
  },
  {
   "cell_type": "code",
   "execution_count": 2,
   "id": "c03cd5bc",
   "metadata": {},
   "outputs": [
    {
     "name": "stdout",
     "output_type": "stream",
     "text": [
      "Hello Python\n"
     ]
    }
   ],
   "source": [
    "print(\"Hello Python\")\n"
   ]
  },
  {
   "cell_type": "raw",
   "id": "0ba5504c",
   "metadata": {},
   "source": [
    "2.\tWrite a Python program to do arithmetical operations addition and division.?"
   ]
  },
  {
   "cell_type": "code",
   "execution_count": 2,
   "id": "3ab322bf",
   "metadata": {},
   "outputs": [
    {
     "name": "stdout",
     "output_type": "stream",
     "text": [
      "ADDITION AND DIVISION OPERATION \n",
      "Enter a :24\n",
      "Enter b:5\n",
      "Addition of two nos :\n",
      "29.0\n",
      "Division of two nos :\n",
      "4.8\n"
     ]
    }
   ],
   "source": [
    " print (\"ADDITION AND DIVISION OPERATION \")\n",
    " a=float(input(\"Enter a :\"))\n",
    " b=float(input(\"Enter b:\")) \n",
    " print (\"Addition of two nos :\") \n",
    " c=a+b\n",
    " print(c)  \n",
    " print (\"Division of two nos :\") \n",
    " d=a/b \n",
    " print(d)   \n"
   ]
  },
  {
   "cell_type": "raw",
   "id": "69acb834",
   "metadata": {},
   "source": [
    "3.\tWrite a Python program to find the area of a triangle?"
   ]
  },
  {
   "cell_type": "code",
   "execution_count": 3,
   "id": "31d83b76",
   "metadata": {},
   "outputs": [
    {
     "name": "stdout",
     "output_type": "stream",
     "text": [
      "TO PRINT THE AREA OF A TRIANGLE WHEN BASE AND HEIGHT ARE GIVEN\n",
      "Enter base of the triangle :4\n",
      "Enter height of the triangle :3\n",
      "Area of the triangle is : 6.0\n"
     ]
    }
   ],
   "source": [
    "print(\"TO PRINT THE AREA OF A TRIANGLE WHEN BASE AND HEIGHT ARE GIVEN\")\n",
    "b = float(input(\"Enter base of the triangle :\"))\n",
    "h = float(input(\"Enter height of the triangle :\"))\n",
    "a =  1/2*(b*h)\n",
    "print(\"Area of the triangle is :\", a) \n"
   ]
  },
  {
   "cell_type": "raw",
   "id": "dcc7dba1",
   "metadata": {},
   "source": [
    "4.\tWrite a Python program to swap two variables?"
   ]
  },
  {
   "cell_type": "code",
   "execution_count": 4,
   "id": "f3d35703",
   "metadata": {},
   "outputs": [
    {
     "name": "stdout",
     "output_type": "stream",
     "text": [
      "PROGRAM TO SWAP TWO VARIABLES\n",
      "Enter Variable X :9\n",
      "Enter Variable Y :11\n",
      "Variables Before Swapping : X = 9 Y = 11\n",
      "Variables After Swapping : X = 11 Y = 9\n"
     ]
    }
   ],
   "source": [
    "print(\"PROGRAM TO SWAP TWO VARIABLES\")\n",
    "x=int(input(\"Enter Variable X :\"))\n",
    "y=int(input(\"Enter Variable Y :\"))\n",
    "print(\"Variables Before Swapping : X =\",x,\"Y =\",y)\n",
    "t=x\n",
    "x=y\n",
    "y=t\n",
    "print(\"Variables After Swapping : X =\",x,\"Y =\",y)\n",
    "\n"
   ]
  },
  {
   "cell_type": "raw",
   "id": "913b79cf",
   "metadata": {},
   "source": [
    "5.\tWrite a Python program to generate a random number?"
   ]
  },
  {
   "cell_type": "code",
   "execution_count": 5,
   "id": "d637bebc",
   "metadata": {},
   "outputs": [
    {
     "name": "stdout",
     "output_type": "stream",
     "text": [
      "The random number is : 24\n"
     ]
    }
   ],
   "source": [
    "import random\n",
    "num=random.randint(1,1000)\n",
    "print(\"The random number is :\",num)"
   ]
  },
  {
   "cell_type": "code",
   "execution_count": null,
   "id": "c26e5bed",
   "metadata": {},
   "outputs": [],
   "source": []
  }
 ],
 "metadata": {
  "kernelspec": {
   "display_name": "Python 3 (ipykernel)",
   "language": "python",
   "name": "python3"
  },
  "language_info": {
   "codemirror_mode": {
    "name": "ipython",
    "version": 3
   },
   "file_extension": ".py",
   "mimetype": "text/x-python",
   "name": "python",
   "nbconvert_exporter": "python",
   "pygments_lexer": "ipython3",
   "version": "3.9.7"
  }
 },
 "nbformat": 4,
 "nbformat_minor": 5
}
