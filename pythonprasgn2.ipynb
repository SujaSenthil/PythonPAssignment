{
 "cells": [
  {
   "cell_type": "raw",
   "id": "a4426944",
   "metadata": {},
   "source": [
    " PROGRAMMING ASSIGNMENT 2\n",
    " "
   ]
  },
  {
   "cell_type": "raw",
   "id": "9f2882e5",
   "metadata": {},
   "source": [
    "1. Write a Python program to convert kilometers to miles?"
   ]
  },
  {
   "cell_type": "code",
   "execution_count": 6,
   "id": "5431dd34",
   "metadata": {},
   "outputs": [
    {
     "name": "stdout",
     "output_type": "stream",
     "text": [
      "Enter distance in Kilometers:5\n",
      "Distance in Miles : 3.1068499999999997\n"
     ]
    }
   ],
   "source": [
    "k= float(input(\"Enter distance in Kilometers:\"))\n",
    "m=k*0.62137\n",
    "print(\"Distance in Miles :\",m) "
   ]
  },
  {
   "cell_type": "raw",
   "id": "b39800d6",
   "metadata": {},
   "source": []
  },
  {
   "cell_type": "raw",
   "id": "5f8841d0",
   "metadata": {},
   "source": [
    "2. Write a Python program to convert Celsius to Fahrenheit?"
   ]
  },
  {
   "cell_type": "code",
   "execution_count": 8,
   "id": "281f4b5e",
   "metadata": {},
   "outputs": [
    {
     "name": "stdout",
     "output_type": "stream",
     "text": [
      "Enter Temperature in Celcius :38\n",
      "Temperature in Celcius is : 100.4\n"
     ]
    }
   ],
   "source": [
    "c=float(input(\"Enter Temperature in Celcius :\"))\n",
    "f=(c*1.8)+32\n",
    "print(\"Temperature in Celcius is :\",f)"
   ]
  },
  {
   "cell_type": "raw",
   "id": "469a3356",
   "metadata": {},
   "source": [
    "\n"
   ]
  },
  {
   "cell_type": "raw",
   "id": "35bd6693",
   "metadata": {},
   "source": [
    "3.Write a function to display a Calender\n"
   ]
  },
  {
   "cell_type": "code",
   "execution_count": 2,
   "id": "788e5208",
   "metadata": {},
   "outputs": [
    {
     "name": "stdout",
     "output_type": "stream",
     "text": [
      "Enter year :2022\n",
      "                                  2022\n",
      "\n",
      "      January                   February                   March\n",
      "Mo Tu We Th Fr Sa Su      Mo Tu We Th Fr Sa Su      Mo Tu We Th Fr Sa Su\n",
      "                1  2          1  2  3  4  5  6          1  2  3  4  5  6\n",
      " 3  4  5  6  7  8  9       7  8  9 10 11 12 13       7  8  9 10 11 12 13\n",
      "10 11 12 13 14 15 16      14 15 16 17 18 19 20      14 15 16 17 18 19 20\n",
      "17 18 19 20 21 22 23      21 22 23 24 25 26 27      21 22 23 24 25 26 27\n",
      "24 25 26 27 28 29 30      28                        28 29 30 31\n",
      "31\n",
      "\n",
      "       April                      May                       June\n",
      "Mo Tu We Th Fr Sa Su      Mo Tu We Th Fr Sa Su      Mo Tu We Th Fr Sa Su\n",
      "             1  2  3                         1             1  2  3  4  5\n",
      " 4  5  6  7  8  9 10       2  3  4  5  6  7  8       6  7  8  9 10 11 12\n",
      "11 12 13 14 15 16 17       9 10 11 12 13 14 15      13 14 15 16 17 18 19\n",
      "18 19 20 21 22 23 24      16 17 18 19 20 21 22      20 21 22 23 24 25 26\n",
      "25 26 27 28 29 30         23 24 25 26 27 28 29      27 28 29 30\n",
      "                          30 31\n",
      "\n",
      "        July                     August                  September\n",
      "Mo Tu We Th Fr Sa Su      Mo Tu We Th Fr Sa Su      Mo Tu We Th Fr Sa Su\n",
      "             1  2  3       1  2  3  4  5  6  7                1  2  3  4\n",
      " 4  5  6  7  8  9 10       8  9 10 11 12 13 14       5  6  7  8  9 10 11\n",
      "11 12 13 14 15 16 17      15 16 17 18 19 20 21      12 13 14 15 16 17 18\n",
      "18 19 20 21 22 23 24      22 23 24 25 26 27 28      19 20 21 22 23 24 25\n",
      "25 26 27 28 29 30 31      29 30 31                  26 27 28 29 30\n",
      "\n",
      "      October                   November                  December\n",
      "Mo Tu We Th Fr Sa Su      Mo Tu We Th Fr Sa Su      Mo Tu We Th Fr Sa Su\n",
      "                1  2          1  2  3  4  5  6                1  2  3  4\n",
      " 3  4  5  6  7  8  9       7  8  9 10 11 12 13       5  6  7  8  9 10 11\n",
      "10 11 12 13 14 15 16      14 15 16 17 18 19 20      12 13 14 15 16 17 18\n",
      "17 18 19 20 21 22 23      21 22 23 24 25 26 27      19 20 21 22 23 24 25\n",
      "24 25 26 27 28 29 30      28 29 30                  26 27 28 29 30 31\n",
      "31\n",
      "\n"
     ]
    }
   ],
   "source": [
    "import calendar\n",
    "\n",
    "yy=int(input(\"Enter year :\"))\n",
    "print(calendar.calendar(yy))"
   ]
  },
  {
   "cell_type": "raw",
   "id": "f76b58e4",
   "metadata": {},
   "source": [
    "Write a Python program to solve quadratic equation?\n"
   ]
  },
  {
   "cell_type": "code",
   "execution_count": 17,
   "id": "0d0ad148",
   "metadata": {},
   "outputs": [
    {
     "name": "stdout",
     "output_type": "stream",
     "text": [
      "Enter the Coefficient of x^2 :4\n",
      "Enter the Coefficient of x :-4\n",
      "Enter the Coefficient for constant term:-5\n",
      "The roots of the Quadratic Equation 4 x^2+ -4 x+ -5 =0 is : x = -11.75 x = 12.75\n"
     ]
    }
   ],
   "source": [
    "a=int(input(\"Enter the Coefficient of x^2 :\"))\n",
    "b=int(input(\"Enter the Coefficient of x :\"))\n",
    "c=int(input(\"Enter the Coefficient for constant term:\"))\n",
    "d=(b*b)-(4*a*c)\n",
    "x1=(-b+(d^-2))/(2*a)\n",
    "x2=(-b-(d^-2))/(2*a)\n",
    "print(\"The roots of the Quadratic Equation\",a,\"x^2+\",b,\"x+\",c,\"=0 is :\",\"x =\",x1,\"x =\",x2)\n",
    "\n",
    "\n"
   ]
  },
  {
   "cell_type": "raw",
   "id": "dac6ff3b",
   "metadata": {},
   "source": [
    "\n"
   ]
  },
  {
   "cell_type": "raw",
   "id": "e90b47df",
   "metadata": {},
   "source": [
    "Write a Python program to swap two variables without temporary variable."
   ]
  },
  {
   "cell_type": "code",
   "execution_count": 1,
   "id": "8fd6187e",
   "metadata": {},
   "outputs": [
    {
     "name": "stdout",
     "output_type": "stream",
     "text": [
      "Enter the First Variable A:15\n",
      "Enter the Second Variable B:10\n",
      "Value of the First Variable A after Swapping: 10\n",
      "Value of the First Variable B after Swapping: 15\n"
     ]
    }
   ],
   "source": [
    "a=input(\"Enter the First Variable A:\")\n",
    "b=input(\"Enter the Second Variable B:\")\n",
    "a,b=b,a\n",
    "print(\"Value of the First Variable A after Swapping:\",a)\n",
    "print(\"Value of the First Variable B after Swapping:\",b)\n"
   ]
  },
  {
   "cell_type": "raw",
   "id": "30e5c2b9",
   "metadata": {},
   "source": []
  }
 ],
 "metadata": {
  "kernelspec": {
   "display_name": "Python 3 (ipykernel)",
   "language": "python",
   "name": "python3"
  },
  "language_info": {
   "codemirror_mode": {
    "name": "ipython",
    "version": 3
   },
   "file_extension": ".py",
   "mimetype": "text/x-python",
   "name": "python",
   "nbconvert_exporter": "python",
   "pygments_lexer": "ipython3",
   "version": "3.9.7"
  }
 },
 "nbformat": 4,
 "nbformat_minor": 5
}
