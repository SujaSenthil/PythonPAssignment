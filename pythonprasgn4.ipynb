{
 "cells": [
  {
   "cell_type": "raw",
   "id": "1a4c965a",
   "metadata": {},
   "source": [
    "                                PYTHON PROGRAM ASSIGNMENT 4\n",
    "                                \n",
    "                                "
   ]
  },
  {
   "cell_type": "raw",
   "id": "8d810379",
   "metadata": {},
   "source": [
    "1.Write a program to find the factorial of the given number.\n"
   ]
  },
  {
   "cell_type": "code",
   "execution_count": 3,
   "id": "137fffa9",
   "metadata": {},
   "outputs": [
    {
     "name": "stdout",
     "output_type": "stream",
     "text": [
      "Enter a number to find the factorial:10\n",
      "The factorial of 10 is: 3628800\n"
     ]
    }
   ],
   "source": [
    "n=int(input(\"Enter a number to find the factorial:\"))\n",
    "f=1\n",
    "for i in range(1,n+1):\n",
    "    f=f*i\n",
    "print(\"The factorial of\",n,\"is:\",f)    "
   ]
  },
  {
   "cell_type": "raw",
   "id": "0bcd8cff",
   "metadata": {},
   "source": [
    "\n"
   ]
  },
  {
   "cell_type": "markdown",
   "id": "f078cdcf",
   "metadata": {},
   "source": [
    "2.Write a program to display multiplication table.\n"
   ]
  },
  {
   "cell_type": "code",
   "execution_count": 7,
   "id": "a6fd3ef0",
   "metadata": {},
   "outputs": [
    {
     "name": "stdout",
     "output_type": "stream",
     "text": [
      "Enter the number for which you want to display the Multiplication Table :12\n",
      "\n",
      "\n",
      "\t    MULTIPLICATION TABLE FOR 12 \n",
      "\n",
      "\n",
      "\t\t 1  *  12 = 12\n",
      "\t\t 2  *  12 = 24\n",
      "\t\t 3  *  12 = 36\n",
      "\t\t 4  *  12 = 48\n",
      "\t\t 5  *  12 = 60\n",
      "\t\t 6  *  12 = 72\n",
      "\t\t 7  *  12 = 84\n",
      "\t\t 8  *  12 = 96\n",
      "\t\t 9  *  12 = 108\n",
      "\t\t 10  *  12 = 120\n",
      "\t\t 11  *  12 = 132\n",
      "\t\t 12  *  12 = 144\n"
     ]
    }
   ],
   "source": [
    "m=int(input(\"Enter the number for which you want to display the Multiplication Table :\"))\n",
    "print(\"\\n\\n\\t    MULTIPLICATION TABLE FOR\",m,\"\\n\\n\")\n",
    "for i in range(1,13):\n",
    "    print(\"\\t\\t\",i,\" * \",m,\"=\",i*m)"
   ]
  },
  {
   "cell_type": "raw",
   "id": "d0dfb781",
   "metadata": {},
   "source": [
    " "
   ]
  },
  {
   "cell_type": "raw",
   "id": "8d469c4e",
   "metadata": {},
   "source": [
    "3. Write a prograam to print the Fibanocci Sequence.\n"
   ]
  },
  {
   "cell_type": "code",
   "execution_count": 14,
   "id": "f5ce1b75",
   "metadata": {},
   "outputs": [
    {
     "name": "stdout",
     "output_type": "stream",
     "text": [
      "Enter the number of terms :15\n",
      "\n",
      "\n",
      "FIBANOCCI SEQUENCE\n",
      "\n",
      "0  1  1  2  3  5  8  13  21  34  55  89  144  233  377  "
     ]
    }
   ],
   "source": [
    "a=1\n",
    "i=0\n",
    "b=0\n",
    "n=int(input(\"Enter the number of terms :\"))\n",
    "print(\"\\n\\nFIBANOCCI SEQUENCE\\n\")\n",
    "while(i<n):\n",
    "    print(b,end=\"  \")\n",
    "    c=a+b\n",
    "    a=b\n",
    "    b=c\n",
    "    i=i+1\n",
    "    \n"
   ]
  },
  {
   "cell_type": "raw",
   "id": "52b63745",
   "metadata": {},
   "source": []
  },
  {
   "cell_type": "raw",
   "id": "1ce25359",
   "metadata": {},
   "source": [
    "4.Write a python program to check Armsrong number.\n"
   ]
  },
  {
   "cell_type": "code",
   "execution_count": 16,
   "id": "d6a7173d",
   "metadata": {},
   "outputs": [
    {
     "name": "stdout",
     "output_type": "stream",
     "text": [
      "Enter the number to check whether it is an Armstrong number or not :1634\n",
      "\n",
      "The number 1634 is an Armstrong Number\n"
     ]
    }
   ],
   "source": [
    "a=int(input(\"Enter the number to check whether it is an Armstrong number or not :\"))\n",
    "s=0\n",
    "t=a\n",
    "n=len(str(a))\n",
    "while(a>0):\n",
    "    x=a%10\n",
    "    s=s+(x**n)\n",
    "    a=a//10\n",
    "if s==t:\n",
    "    print(\"\\nThe number\",t,\"is an Armstrong Number\")\n",
    "else:\n",
    "    print(\"\\nThe number\",t,\"is not an Armstrong Number\")"
   ]
  },
  {
   "cell_type": "raw",
   "id": "b2bb629a",
   "metadata": {},
   "source": [
    "\n"
   ]
  },
  {
   "cell_type": "raw",
   "id": "65460c90",
   "metadata": {},
   "source": [
    "5.Write Python program to find Armstrong number in an interval.\n"
   ]
  },
  {
   "cell_type": "code",
   "execution_count": 18,
   "id": "e7ef7ecb",
   "metadata": {},
   "outputs": [
    {
     "name": "stdout",
     "output_type": "stream",
     "text": [
      "Enter the Upper limit to find the Armstrong number :2000\n",
      "Enter the Lower limit to find the Armstrong number :100\n",
      "\n",
      "\n",
      "The Armstrong Numbers from  100 to 2000 are :\n",
      "\n",
      "153 370 371 407 1634 "
     ]
    }
   ],
   "source": [
    "u=int(input(\"Enter the Upper limit to find the Armstrong number :\"))\n",
    "l=int(input(\"Enter the Lower limit to find the Armstrong number :\"))\n",
    "print(\"\\n\\nThe Armstrong Numbers from \",l,\"to\",u,\"are :\\n\")\n",
    "for i in range(l,u+1):\n",
    "    p=len(str(i))\n",
    "    a=i\n",
    "    s=0\n",
    "    while(a>0):\n",
    "        x=a%10\n",
    "        s=s+(x**p)\n",
    "        a=a//10\n",
    "    if i==s:\n",
    "         print(i,end=\" \")"
   ]
  },
  {
   "cell_type": "raw",
   "id": "f108951b",
   "metadata": {},
   "source": [
    "\n"
   ]
  },
  {
   "cell_type": "raw",
   "id": "eaa8cfb3",
   "metadata": {},
   "source": [
    "6. Write a Python program to find the sum of Natural numbers.\n"
   ]
  },
  {
   "cell_type": "code",
   "execution_count": 23,
   "id": "9628f876",
   "metadata": {},
   "outputs": [
    {
     "name": "stdout",
     "output_type": "stream",
     "text": [
      "Enter the number of terms:16\n",
      "\n",
      "The Sum of First 16 Natural numbers : 136\n"
     ]
    }
   ],
   "source": [
    "n=int(input(\"Enter the number of terms:\"))\n",
    "s=0\n",
    "for i in range(1,n+1):\n",
    "      s=s+i\n",
    "print(\"\\nThe Sum of First\",n,\"Natural numbers :\", s)      "
   ]
  },
  {
   "cell_type": "code",
   "execution_count": null,
   "id": "dfa4611b",
   "metadata": {},
   "outputs": [],
   "source": []
  }
 ],
 "metadata": {
  "kernelspec": {
   "display_name": "Python 3 (ipykernel)",
   "language": "python",
   "name": "python3"
  },
  "language_info": {
   "codemirror_mode": {
    "name": "ipython",
    "version": 3
   },
   "file_extension": ".py",
   "mimetype": "text/x-python",
   "name": "python",
   "nbconvert_exporter": "python",
   "pygments_lexer": "ipython3",
   "version": "3.9.7"
  }
 },
 "nbformat": 4,
 "nbformat_minor": 5
}
